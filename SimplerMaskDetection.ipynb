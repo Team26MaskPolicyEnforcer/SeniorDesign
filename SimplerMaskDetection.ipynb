{
 "cells": [
  {
   "cell_type": "code",
   "execution_count": 2,
   "metadata": {},
   "outputs": [
    {
     "name": "stdout",
     "output_type": "stream",
     "text": [
      "Generating data in CSV format....\n",
      "totalCut:  4072  total:  10607  totalUsed:  6535\n",
      "Label:  1\n",
      "Time passed:  35.27625894546509 seconds\n"
     ]
    },
    {
     "data": {
      "text/plain": [
       "-1"
      ]
     },
     "execution_count": 2,
     "metadata": {},
     "output_type": "execute_result"
    }
   ],
   "source": [
    "import os\n",
    "import xml.etree.ElementTree as et\n",
    "import re\n",
    "import numpy as np\n",
    "import pandas as pd\n",
    "import tensorflow as tf\n",
    "from tensorflow import keras\n",
    "from tensorflow.keras import models, layers\n",
    "from sklearn.model_selection import train_test_split\n",
    "from scipy import ndimage\n",
    "import cv2\n",
    "import matplotlib.pyplot as plt\n",
    "\n",
    "import time\n",
    "\n",
    "_start_time = time.time()\n",
    "\n",
    "def tic():\n",
    "    global _start_time\n",
    "    _start_time = time.time()\n",
    "\n",
    "def tac():\n",
    "    \n",
    "    t_time = time.time() - _start_time\n",
    "    print(\"Time passed: \", t_time, \"seconds\")\n",
    "tic()    \n",
    "dataSet = []\n",
    "parentDir = \"\"\n",
    "annotations = \"archive/annotations\"\n",
    "dataLabels = ['with_mask','without_mask','mask_weared_incorrect']\n",
    "print(\"Generating data in CSV format....\")\n",
    "\n",
    "#Used code based on the code example from the kaggle database\n",
    "for file in os.listdir(parentDir + annotations):\n",
    "    xml = et.parse(parentDir+annotations+\"/\"+file) \n",
    "    root = xml.getroot()\n",
    "    img = root[1].text\n",
    "    for i in range(4,len(root)):\n",
    "        row = []\n",
    "        row.append(img)\n",
    "        row.append(root[i][0].text)\n",
    "        for point in root[i][5]:\n",
    "            row.append(point.text)\n",
    "        dataSet.append(row)\n",
    "totalCut = 0\n",
    "totalUsed = 0\n",
    "total = 0\n",
    "smallImage = 0\n",
    "mask_weared_incorrect = 0\n",
    "LowestHeight = 30\n",
    "LowestWidth = 30\n",
    "rotationAngles = [315, 330, 0, 30, 45]\n",
    "usedImage = []\n",
    "usedLabel = []\n",
    "testImages = []\n",
    "testLabels = []\n",
    "trainImages = []\n",
    "trainLabels = []\n",
    "cropImages = []\n",
    "originalImages = []\n",
    "index = 0\n",
    "location = []\n",
    "for i in range(len(dataSet)):\n",
    "    width = int(dataSet[i][5])-int(dataSet[i][3])\n",
    "    height = int(dataSet[i][4])-int(dataSet[i][2])\n",
    "    if (LowestWidth <= width) and (LowestHeight <= height):\n",
    "        img = cv2.imread(\"archive/images/\"+dataSet[i][0])\n",
    "        originalImages.append(img)\n",
    "        crop_img = img[int(dataSet[i][3]):int(dataSet[i][5]), int(dataSet[i][2]):int(dataSet[i][4])]\n",
    "        for j in range(len(rotationAngles)):\n",
    "            scipyImage = ndimage.rotate(crop_img, rotationAngles[j])\n",
    "            cropImages.append(scipyImage)\n",
    "            location.append(index)\n",
    "            index += 1\n",
    "            resize_crop = cv2.resize(crop_img,(LowestWidth,LowestHeight))\n",
    "            usedImage.append(resize_crop)\n",
    "            for k in range(3):\n",
    "                if(dataSet[i][1] == dataLabels[k]):\n",
    "                    usedLabel.append(k)\n",
    "                    if k == 2:\n",
    "                        mask_weared_incorrect += 1;\n",
    "                    break\n",
    "            totalUsed += 1\n",
    "            total +=1\n",
    "    total += 1\n",
    "totalCut = total - totalUsed\n",
    "usedImageArray = np.array(usedImage) / 255\n",
    "usedLabelArray = np.array(usedLabel)\n",
    "locationArray = np.array(location)\n",
    "trainImages, testImages, trainLabels, testLabels, trainLocation, testLocation = train_test_split(usedImageArray, \n",
    "                                                                                                 usedLabelArray, locationArray, \n",
    "                                                                                               test_size=0.1, random_state=69)\n",
    "print(\"totalCut: \", totalCut, \" total: \",total, \" totalUsed: \", totalUsed)\n",
    "print(\"Label: \", usedLabel[0])\n",
    "tac()\n",
    "cv2.imshow(\"photo\", usedImage[0])\n",
    "cv2.waitKey(0)\n",
    "cv2.destroyAllWindows()\n",
    "cv2.waitKey(1)"
   ]
  },
  {
   "cell_type": "code",
   "execution_count": 3,
   "metadata": {},
   "outputs": [
    {
     "name": "stdout",
     "output_type": "stream",
     "text": [
      "Label:  with_mask\n"
     ]
    },
    {
     "data": {
      "text/plain": [
       "-1"
      ]
     },
     "execution_count": 3,
     "metadata": {},
     "output_type": "execute_result"
    }
   ],
   "source": [
    "search = 82\n",
    "print(\"Label: \", dataLabels[testLabels[search]])\n",
    "cv2.imshow(\"cropped\", cropImages[testLocation[search]])\n",
    "cv2.waitKey(0)\n",
    "cv2.destroyAllWindows()\n",
    "cv2.waitKey(1)"
   ]
  },
  {
   "cell_type": "code",
   "execution_count": 4,
   "metadata": {},
   "outputs": [
    {
     "name": "stdout",
     "output_type": "stream",
     "text": [
      "Total Data Set:  6535\n",
      "Total Test Set:  654\n",
      "Total Train Set:  5881\n",
      "Number of Masked worn Incorrect:  285\n"
     ]
    }
   ],
   "source": [
    "print(\"Total Data Set: \", len(usedLabelArray))\n",
    "print(\"Total Test Set: \", len(testLabels))\n",
    "print(\"Total Train Set: \", len(trainLabels))\n",
    "print(\"Number of Masked worn Incorrect: \", mask_weared_incorrect)"
   ]
  },
  {
   "cell_type": "code",
   "execution_count": 5,
   "metadata": {},
   "outputs": [
    {
     "name": "stdout",
     "output_type": "stream",
     "text": [
      "Model: \"sequential\"\n",
      "_________________________________________________________________\n",
      "Layer (type)                 Output Shape              Param #   \n",
      "=================================================================\n",
      "conv2d (Conv2D)              (None, 28, 28, 128)       3584      \n",
      "_________________________________________________________________\n",
      "max_pooling2d (MaxPooling2D) (None, 14, 14, 128)       0         \n",
      "_________________________________________________________________\n",
      "conv2d_1 (Conv2D)            (None, 12, 12, 64)        73792     \n",
      "_________________________________________________________________\n",
      "flatten (Flatten)            (None, 9216)              0         \n",
      "_________________________________________________________________\n",
      "dense (Dense)                (None, 64)                589888    \n",
      "_________________________________________________________________\n",
      "dense_1 (Dense)              (None, 3)                 195       \n",
      "=================================================================\n",
      "Total params: 667,459\n",
      "Trainable params: 667,459\n",
      "Non-trainable params: 0\n",
      "_________________________________________________________________\n",
      "Train on 5881 samples, validate on 654 samples\n",
      "Epoch 1/10\n",
      "5881/5881 [==============================] - 15s 3ms/sample - loss: 0.2764 - accuracy: 0.8995 - val_loss: 0.1521 - val_accuracy: 0.9358\n",
      "Epoch 2/10\n",
      "5881/5881 [==============================] - 13s 2ms/sample - loss: 0.1256 - accuracy: 0.9560 - val_loss: 0.0919 - val_accuracy: 0.9664\n",
      "Epoch 3/10\n",
      "5881/5881 [==============================] - 13s 2ms/sample - loss: 0.0746 - accuracy: 0.9719 - val_loss: 0.0499 - val_accuracy: 0.9801\n",
      "Epoch 4/10\n",
      "5881/5881 [==============================] - 13s 2ms/sample - loss: 0.0331 - accuracy: 0.9900 - val_loss: 0.0161 - val_accuracy: 0.9939\n",
      "Epoch 5/10\n",
      "5881/5881 [==============================] - 13s 2ms/sample - loss: 0.0206 - accuracy: 0.9934 - val_loss: 0.0401 - val_accuracy: 0.9862\n",
      "Epoch 6/10\n",
      "5881/5881 [==============================] - 13s 2ms/sample - loss: 0.0106 - accuracy: 0.9971 - val_loss: 0.0038 - val_accuracy: 0.9985\n",
      "Epoch 7/10\n",
      "5881/5881 [==============================] - 14s 2ms/sample - loss: 0.0014 - accuracy: 0.9998 - val_loss: 3.7075e-04 - val_accuracy: 1.0000\n",
      "Epoch 8/10\n",
      "5881/5881 [==============================] - 13s 2ms/sample - loss: 3.2034e-04 - accuracy: 1.0000 - val_loss: 2.4842e-04 - val_accuracy: 1.0000\n",
      "Epoch 9/10\n",
      "5881/5881 [==============================] - 13s 2ms/sample - loss: 1.9586e-04 - accuracy: 1.0000 - val_loss: 1.9169e-04 - val_accuracy: 1.0000\n",
      "Epoch 10/10\n",
      "5881/5881 [==============================] - 13s 2ms/sample - loss: 1.5024e-04 - accuracy: 1.0000 - val_loss: 1.3922e-04 - val_accuracy: 1.0000\n",
      "654/1 - 0s - loss: 7.4747e-05 - accuracy: 1.0000\n",
      "test accuracy:  1.0\n",
      "Time passed:  133.05856204032898 seconds\n"
     ]
    },
    {
     "data": {
      "image/png": "[encoded data removed]",
      "text/plain": [
       "<matplotlib.figure.Figure at 0x7fd8eb6fa2e8>"
      ]
     },
     "metadata": {},
     "output_type": "display_data"
    }
   ],
   "source": [
    "tic()\n",
    "model = models.Sequential()\n",
    "model.add(layers.Conv2D(128, (3, 3), activation='relu', input_shape=(LowestHeight, LowestWidth, 3)))\n",
    "model.add(layers.MaxPooling2D((2, 2)))\n",
    "model.add(layers.Conv2D(64, (3, 3), activation='relu'))\n",
    "model.add(layers.Flatten())\n",
    "model.add(layers.Dense(64, activation='relu'))\n",
    "model.add(layers.Dense(3))\n",
    "model.summary()\n",
    "model.compile(optimizer='adam', loss=tf.keras.losses.SparseCategoricalCrossentropy(from_logits=True),metrics=['accuracy'])\n",
    "\n",
    "history = model.fit(trainImages, trainLabels, epochs=10, validation_data=(testImages, testLabels))\n",
    "plt.plot(history.history['accuracy'], label='accuracy')\n",
    "plt.plot(history.history['val_accuracy'], label = 'val_accuracy')\n",
    "plt.xlabel('Epoch')\n",
    "plt.ylabel('Accuracy')\n",
    "plt.ylim([0.5, 1])\n",
    "plt.legend(loc='lower right')\n",
    "\n",
    "test_loss, test_acc = model.evaluate(testImages,  testLabels, verbose=2)\n",
    "print(\"test accuracy: \", test_acc)\n",
    "probability_model = tf.keras.Sequential([model, tf.keras.layers.Softmax()])\n",
    "tac()"
   ]
  },
  {
   "cell_type": "code",
   "execution_count": 8,
   "metadata": {},
   "outputs": [],
   "source": [
    "#Remember to Delete The Three Files\n",
    "if (os.path.isfile(\"/Users/donnyhuang322/Desktop/Engineering/ECEN_and_CSCE/Senior Design/FullSystem/with_mask\")):\n",
    "    os.rmdir(\"/Users/donnyhuang322/Desktop/Engineering/ECEN_and_CSCE/Senior Design/FullSystem/with_mask\")\n",
    "if (os.path.isfile(\"/Users/donnyhuang322/Desktop/Engineering/ECEN_and_CSCE/Senior Design/FullSystem/without_mask\")):\n",
    "    os.rmdir(\"/Users/donnyhuang322/Desktop/Engineering/ECEN_and_CSCE/Senior Design/FullSystem/without_mask\")\n",
    "if (os.path.isfile(\"/Users/donnyhuang322/Desktop/Engineering/ECEN_and_CSCE/Senior Design/FullSystem/mask_weared_incorrect\")):\n",
    "    os.rmdir(\"/Users/donnyhuang322/Desktop/Engineering/ECEN_and_CSCE/Senior Design/FullSystem/mask_weared_incorrect\")    \n",
    "for i in range(3):\n",
    "    path = os.path.join(parentDir, dataLabels[i])\n",
    "    os.mkdir(path)\n",
    "\n",
    "sample = len(testLabels)\n",
    "predict = model.predict(testImages)\n",
    "percentAccuracy = []\n",
    "for i in range(sample):\n",
    "    total = 0\n",
    "    greatest = predict[i][0]\n",
    "    least = predict[i][0]\n",
    "    index = 0\n",
    "    percentage = 0\n",
    "    for j in range(3):\n",
    "        if predict[i][j] > greatest:\n",
    "            greatest = predict[i][j]\n",
    "            index = j\n",
    "        if predict[i][j] < least:\n",
    "            least = predict[i][j]\n",
    "    for j in range(3):\n",
    "        total += predict[i][j] - least\n",
    "    greatest = greatest - least\n",
    "    percentage = greatest / total * 100\n",
    "    #print(\"Percent Accuracy: \", percentage)\n",
    "    #cv2.imshow(\"photo\", cropImages[testLocation[i]])\n",
    "    cv2.imwrite(parentDir+dataLabels[index]+\"/image\"+str(i)+\".png\", cropImages[testLocation[i]])"
   ]
  },
  {
   "cell_type": "code",
   "execution_count": 9,
   "metadata": {},
   "outputs": [
    {
     "name": "stdout",
     "output_type": "stream",
     "text": [
      "Prediction of test 0 :  with_mask Confidence:  68.8653679768337\n",
      "Reality:  with_mask\n",
      "\n",
      "Prediction of test 1 :  with_mask Confidence:  79.84271596992785\n",
      "Reality:  with_mask\n",
      "\n",
      "Prediction of test 2 :  without_mask Confidence:  93.75166701026481\n",
      "Reality:  without_mask\n",
      "\n",
      "Prediction of test 3 :  without_mask Confidence:  87.82165049617664\n",
      "Reality:  mask_weared_incorrect\n",
      "\n",
      "Prediction of test 4 :  mask_weared_incorrect Confidence:  64.06686894936341\n",
      "Reality:  mask_weared_incorrect\n",
      "\n",
      "Prediction of test 5 :  with_mask Confidence:  66.00118785522491\n",
      "Reality:  with_mask\n",
      "\n",
      "Prediction of test 6 :  with_mask Confidence:  83.53747187811273\n",
      "Reality:  with_mask\n",
      "\n",
      "Prediction of test 7 :  mask_weared_incorrect Confidence:  53.526969387032885\n",
      "Reality:  mask_weared_incorrect\n",
      "\n",
      "Prediction of test 8 :  with_mask Confidence:  64.28492977012232\n",
      "Reality:  with_mask\n",
      "\n",
      "Prediction of test 9 :  with_mask Confidence:  78.9467488347903\n",
      "Reality:  with_mask\n",
      "\n"
     ]
    }
   ],
   "source": [
    "specialSet = [0,0,1,2,2,0,0,2,0,0]\n",
    "specialImages = []\n",
    "specialResizes = []\n",
    "for i in range(len(specialSet)):\n",
    "    img = cv2.imread(\"testSet/test\"+str(i)+\".png\")\n",
    "    specialImages.append(img)\n",
    "    resize_crop = cv2.resize(img,(LowestWidth,LowestHeight))\n",
    "    specialResizes.append(resize_crop)\n",
    "specialArray = np.array(specialResizes) / 255\n",
    "specialPredict = model.predict(specialArray)\n",
    "for i in range(len(specialSet)):\n",
    "    total = 0\n",
    "    greatest = specialPredict[i][0]\n",
    "    least = specialPredict[i][0]\n",
    "    index = 0\n",
    "    percentage = 0\n",
    "    for j in range(3):\n",
    "        if specialPredict[i][j] > greatest:\n",
    "            greatest = specialPredict[i][j]\n",
    "            index = j\n",
    "        if specialPredict[i][j] < least:\n",
    "            least = specialPredict[i][j]\n",
    "    for j in range(3):\n",
    "        total += specialPredict[i][j] - least\n",
    "    greatest = greatest - least\n",
    "    percentage = greatest / total * 100\n",
    "    print(\"Prediction of test\",i, \": \",dataLabels[index], \"Confidence: \", percentage)\n",
    "    print(\"Reality: \", dataLabels[specialSet[i]])\n",
    "    print()\n",
    "    cv2.imshow(\"photo\", specialImages[i])\n",
    "    cv2.waitKey(0)\n",
    "    cv2.destroyAllWindows()\n",
    "    cv2.waitKey(1)"
   ]
  },
  {
   "cell_type": "code",
   "execution_count": 10,
   "metadata": {},
   "outputs": [
    {
     "data": {
      "text/plain": [
       "-1"
      ]
     },
     "execution_count": 10,
     "metadata": {},
     "output_type": "execute_result"
    }
   ],
   "source": [
    "img = cv2.imread(\"testSet/test9.png\")\n",
    "\n",
    "blur = cv2.blur(img,(21,21))\n",
    "blurMore = cv2.blur(img,(51,51))\n",
    "cv2.imshow('my image',img)\n",
    "cv2.imshow('blur',blur)\n",
    "cv2.imshow('more blur',blurMore)\n",
    "cv2.waitKey(0)\n",
    "cv2.destroyAllWindows()\n",
    "cv2.waitKey(1)"
   ]
  },
  {
   "cell_type": "code",
   "execution_count": 25,
   "metadata": {},
   "outputs": [
    {
     "name": "stdout",
     "output_type": "stream",
     "text": [
      "Time passed:  5.769634962081909 seconds\n"
     ]
    }
   ],
   "source": [
    "import cv2\n",
    "import numpy as np\n",
    "import os\n",
    "tic()\n",
    "i = 1\n",
    "masks = 0\n",
    "maxObjectNumber = 0\n",
    "VideoFrames = parentDir + \"VideoFrames/\"\n",
    "DetectedFaces = parentDir + \"DetectedFaces/\"\n",
    "FrameNumber =\"Frame\" + str(i)\n",
    "ObjectNumberArray = []\n",
    "while os.path.exists(DetectedFaces + FrameNumber + \".txt\"):\n",
    "    f = open(DetectedFaces + FrameNumber + \".txt\", \"r\")\n",
    "    for line in f:\n",
    "        faceObject = []\n",
    "        for word in line.split():\n",
    "            faceObject.append(int(word))\n",
    "        redundant_list = []\n",
    "        img = cv2.imread(\"VideoFrames/\" + FrameNumber + \".jpg\")\n",
    "        width = faceObject[3]\n",
    "        height = faceObject[4]\n",
    "        centerx = round(faceObject[1] + width/2)\n",
    "        crop_img = img[round(faceObject[2]+height/10):round(faceObject[2]+height*2/3), round(centerx - width/4):round(centerx + width/4)]\n",
    "        resize_crop = cv2.resize(crop_img,(LowestWidth,LowestHeight))\n",
    "        #cv2.imshow(\"testImage\", resize_crop)\n",
    "        #cv2.waitKey(0)\n",
    "        #cv2.destroyAllWindows()\n",
    "        #cv2.waitKey(1)\n",
    "        redundant_list.append(resize_crop)\n",
    "        img_array = np.array(redundant_list)/255\n",
    "        array_predict = model.predict(img_array)\n",
    "        #print(\"Prediction#\" + str(i) +\": \"+ dataLabels[np.argmax(array_predict)])\n",
    "        #print(\"with mask: \" + str(array_predict[0][0])+\n",
    "        #      \"without mask: \" +str(array_predict[0][1])+\"mask_weared_incorrect: \" +str(array_predict[0][2]))\n",
    "        #cv2.imshow(\"testImage\", crop_img)\n",
    "        #cv2.waitKey(0)\n",
    "        #cv2.destroyAllWindows()\n",
    "        #cv2.waitKey(1)\n",
    "        blur = cv2.blur(crop_img, (20,20))\n",
    "        img[round(faceObject[2]+height/10):round(faceObject[2]+height*2/3), round(centerx - width/4):round(centerx + width/4)] = blur\n",
    "        if np.argmax(array_predict):\n",
    "            cv2.rectangle(img, (round(centerx - width/4),round(faceObject[2]+height/10)),(round(centerx + width/4),round(faceObject[2]+height*2/3)),(0,0,255),2)\n",
    "        else:\n",
    "            seen = 0\n",
    "            for j in range(len(ObjectNumberArray)):\n",
    "                if faceObject[0] == ObjectNumberArray[j]:\n",
    "                    seen = 1\n",
    "            if not seen:\n",
    "                ObjectNumberArray.append(faceObject[0])\n",
    "                masks += 1\n",
    "        if faceObject[0] > maxObjectNumber:\n",
    "            maxObjectNumber = faceObject[0]\n",
    "        #print(\"Frame number: \"+ FrameNumber)\n",
    "        os.remove(VideoFrames + FrameNumber + \".jpg\")\n",
    "        cv2.imwrite(VideoFrames + FrameNumber +\".jpg\",img)\n",
    "        \n",
    "    i += 1\n",
    "    FrameNumber = \"Frame\" + str(i)\n",
    "tac()"
   ]
  },
  {
   "cell_type": "code",
   "execution_count": 26,
   "metadata": {},
   "outputs": [
    {
     "name": "stdout",
     "output_type": "stream",
     "text": [
      "Time passed:  2.4949419498443604 seconds\n"
     ]
    }
   ],
   "source": [
    "import cv2\n",
    "import numpy as np\n",
    "import os.path\n",
    "from os import path\n",
    "tic()\n",
    "i = 1\n",
    "VideoFrames = parentDir + \"VideoFrames/\"\n",
    "FramePath = VideoFrames + \"Frame\" + str(i) + \".jpg\"\n",
    "first = cv2.imread(FramePath)\n",
    "frameSize = (first.shape[1], first.shape[0])\n",
    "#out = cv2.VideoWriter('/Users/donnyhuang322/AndroidStudioProjects/MaskEnforcerPolicyApp/app/src/main/res/raw/output_video.mp4',cv2.VideoWriter_fourcc(*'mp4v'), 16, frameSize)\n",
    "out = cv2.VideoWriter('output_video.mp4',cv2.VideoWriter_fourcc(*'mp4v'), 15, frameSize)\n",
    "\n",
    "while path.exists(FramePath):\n",
    "    video = cv2.imread(FramePath)\n",
    "    #cv2.imshow('image', img)\n",
    "    #cv2.waitKey(0)\n",
    "    resizeImage = cv2.resize(video, frameSize)\n",
    "    out.write(resizeImage)\n",
    "    i += 1\n",
    "    FramePath = VideoFrames + \"Frame\" + str(i) + \".jpg\"\n",
    "\n",
    "out.release()\n",
    "tac()"
   ]
  },
  {
   "cell_type": "code",
   "execution_count": 46,
   "metadata": {},
   "outputs": [],
   "source": [
    "import mysql.connector\n",
    "#https://dev.mysql.com/doc/connector-python/en/connector-python-example-cursor-transaction.html\n",
    "try:\n",
    "  cnx = mysql.connector.connect(user='root', password='atrocity',\n",
    "                              host='100.64.13.34',\n",
    "                              database='data')\n",
    "except mysql.connector.Error as err:\n",
    "  if err.errno == errorcode.ER_ACCESS_DENIED_ERROR:\n",
    "    print(\"Something is wrong with your user name or password\")\n",
    "  elif err.errno == errorcode.ER_BAD_DB_ERROR:\n",
    "    print(\"Database does not exist\")\n",
    "  else:\n",
    "    print(err)\n",
    "else:\n",
    "    cursor = cnx.cursor()\n",
    "    refresh_masks = \"DELETE FROM Stats\";\n",
    "    cursor.execute(refresh_masks);\n",
    "    add_masks = (\"INSERT INTO Stats \"\n",
    "               \"(Masks, Total) \"\n",
    "               \"VALUES (%s, %s)\")\n",
    "    masks_data = (masks, maxObjectNumber)\n",
    "    cursor.execute(add_masks, masks_data)\n",
    "    cnx.commit()\n",
    "    cnx.close()"
   ]
  },
  {
   "cell_type": "code",
   "execution_count": null,
   "metadata": {},
   "outputs": [],
   "source": []
  }
 ],
 "metadata": {
  "kernelspec": {
   "display_name": "Python 3",
   "language": "python",
   "name": "python3"
  },
  "language_info": {
   "codemirror_mode": {
    "name": "ipython",
    "version": 3
   },
   "file_extension": ".py",
   "mimetype": "text/x-python",
   "name": "python",
   "nbconvert_exporter": "python",
   "pygments_lexer": "ipython3",
   "version": "3.6.6"
  }
 },
 "nbformat": 4,
 "nbformat_minor": 4
}
