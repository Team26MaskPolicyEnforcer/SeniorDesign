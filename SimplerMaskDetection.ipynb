{
 "cells": [
  {
   "cell_type": "code",
   "execution_count": 7,
   "metadata": {},
   "outputs": [
    {
     "name": "stdout",
     "output_type": "stream",
     "text": [
      "Generating data in CSV format....\n",
      "totalCut:  1136  total:  4072\n",
      "Label:  1\n"
     ]
    },
    {
     "data": {
      "text/plain": [
       "-1"
      ]
     },
     "execution_count": 7,
     "metadata": {},
     "output_type": "execute_result"
    }
   ],
   "source": [
    "import os\n",
    "import xml.etree.ElementTree as et\n",
    "import re\n",
    "import numpy as np\n",
    "import pandas as pd\n",
    "import tensorflow as tf\n",
    "from tensorflow import keras\n",
    "from tensorflow.keras import models, layers\n",
    "from sklearn.model_selection import train_test_split\n",
    "\n",
    "import cv2\n",
    "import matplotlib.pyplot as plt\n",
    "dataSet = []\n",
    "dataLabels = ['with_mask','without_mask','mask_weared_incorrect']\n",
    "print(\"Generating data in CSV format....\")\n",
    "for file in os.listdir(\"/Users/ashun/Documents/Senior Design/archive/annotations\"):\n",
    "    xml = et.parse(\"/Users/ashun/Documents/Senior Design/archive/annotations/\"+file) \n",
    "    root = xml.getroot()\n",
    "    img = root[1].text\n",
    "    for i in range(4,len(root)):\n",
    "        row = []\n",
    "        row.append(img)\n",
    "        row.append(root[i][0].text)\n",
    "        for point in root[i][5]:\n",
    "            row.append(point.text)\n",
    "        dataSet.append(row)\n",
    "totalCut = 0\n",
    "totalUsed = 0\n",
    "total = 0\n",
    "smallImage = 0\n",
    "mask_weared_incorrect = 0\n",
    "LowestHeight = 15\n",
    "LowestWidth = 15\n",
    "usedImage = []\n",
    "usedLabel = []\n",
    "testImages = []\n",
    "testLabels = []\n",
    "trainImages = []\n",
    "trainLabels = []\n",
    "cropImages = []\n",
    "index = 0\n",
    "location = []\n",
    "for i in range(len(dataSet)):\n",
    "    width = int(dataSet[i][5])-int(dataSet[i][3])\n",
    "    height = int(dataSet[i][4])-int(dataSet[i][2])\n",
    "    if (LowestWidth <= width) and (LowestHeight <= height):\n",
    "        img = cv2.imread(\"archive/images/\"+dataSet[i][0])\n",
    "        crop_img = img[int(dataSet[i][3]):int(dataSet[i][5]), int(dataSet[i][2]):int(dataSet[i][4])]\n",
    "        cropImages.append(crop_img)\n",
    "        location.append(index)\n",
    "        index += 1\n",
    "        resize_crop = cv2.resize(crop_img,(LowestWidth,LowestHeight))\n",
    "        usedImage.append(resize_crop)\n",
    "        for j in range(3):\n",
    "            if(dataSet[i][1] == dataLabels[j]):\n",
    "                usedLabel.append(j)\n",
    "                if j == 2:\n",
    "                    mask_weared_incorrect += 1;\n",
    "                break\n",
    "        totalUsed += 1\n",
    "    total += 1\n",
    "totalCut = total - totalUsed\n",
    "usedImageArray = np.array(usedImage) / 255\n",
    "usedLabelArray = np.array(usedLabel)\n",
    "locationArray = np.array(location)\n",
    "trainImages, testImages, trainLabels, testLabels, trainLocation, testLocation = train_test_split(usedImageArray, \n",
    "                                                                                                 usedLabelArray, locationArray, \n",
    "                                                                                                 test_size=0.33, random_state=69)\n",
    "print(\"totalCut: \", totalCut, \" total: \",total)\n",
    "print(\"Label: \", usedLabel[0])\n",
    "cv2.imshow(\"photo\", usedImage[0])\n",
    "cv2.waitKey(0)"
   ]
  },
  {
   "cell_type": "code",
   "execution_count": null,
   "metadata": {},
   "outputs": [
    {
     "name": "stdout",
     "output_type": "stream",
     "text": [
      "Label:  0\n"
     ]
    }
   ],
   "source": [
    "print(\"Label: \", testLabels[1])\n",
    "cv2.imshow(\"photo\",testImages[1])\n",
    "cv2.waitKey(0)"
   ]
  },
  {
   "cell_type": "code",
   "execution_count": 5,
   "metadata": {},
   "outputs": [
    {
     "name": "stdout",
     "output_type": "stream",
     "text": [
      "Total Data Set:  2936\n",
      "Total Test Set:  969\n",
      "Total Train Set:  1967\n",
      "Number of Masked worn Incorrect:  98\n"
     ]
    }
   ],
   "source": [
    "print(\"Total Data Set: \", len(usedLabelArray))\n",
    "print(\"Total Test Set: \", len(testLabels))\n",
    "print(\"Total Train Set: \", len(trainLabels))\n",
    "print(\"Number of Masked worn Incorrect: \", mask_weared_incorrect)\n"
   ]
  },
  {
   "cell_type": "code",
   "execution_count": 8,
   "metadata": {},
   "outputs": [
    {
     "name": "stdout",
     "output_type": "stream",
     "text": [
      "Model: \"sequential_4\"\n",
      "_________________________________________________________________\n",
      "Layer (type)                 Output Shape              Param #   \n",
      "=================================================================\n",
      "conv2d_4 (Conv2D)            (None, 13, 13, 32)        896       \n",
      "_________________________________________________________________\n",
      "max_pooling2d_2 (MaxPooling2 (None, 6, 6, 32)          0         \n",
      "_________________________________________________________________\n",
      "conv2d_5 (Conv2D)            (None, 4, 4, 64)          18496     \n",
      "_________________________________________________________________\n",
      "flatten_2 (Flatten)          (None, 1024)              0         \n",
      "_________________________________________________________________\n",
      "dense_4 (Dense)              (None, 64)                65600     \n",
      "_________________________________________________________________\n",
      "dense_5 (Dense)              (None, 3)                 195       \n",
      "=================================================================\n",
      "Total params: 85,187\n",
      "Trainable params: 85,187\n",
      "Non-trainable params: 0\n",
      "_________________________________________________________________\n",
      "Epoch 1/10\n",
      "62/62 [==============================] - 0s 6ms/step - loss: 0.4423 - accuracy: 0.8419 - val_loss: 0.3987 - val_accuracy: 0.8793\n",
      "Epoch 2/10\n",
      "62/62 [==============================] - 0s 4ms/step - loss: 0.2496 - accuracy: 0.9243 - val_loss: 0.2433 - val_accuracy: 0.9216\n",
      "Epoch 3/10\n",
      "62/62 [==============================] - 0s 5ms/step - loss: 0.1936 - accuracy: 0.9415 - val_loss: 0.2131 - val_accuracy: 0.9278\n",
      "Epoch 4/10\n",
      "62/62 [==============================] - 0s 4ms/step - loss: 0.1635 - accuracy: 0.9446 - val_loss: 0.2347 - val_accuracy: 0.9278\n",
      "Epoch 5/10\n",
      "62/62 [==============================] - 0s 4ms/step - loss: 0.1621 - accuracy: 0.9471 - val_loss: 0.1895 - val_accuracy: 0.9319\n",
      "Epoch 6/10\n",
      "62/62 [==============================] - 0s 4ms/step - loss: 0.1509 - accuracy: 0.9517 - val_loss: 0.1896 - val_accuracy: 0.9340\n",
      "Epoch 7/10\n",
      "62/62 [==============================] - 0s 4ms/step - loss: 0.1465 - accuracy: 0.9497 - val_loss: 0.1921 - val_accuracy: 0.9329\n",
      "Epoch 8/10\n",
      "62/62 [==============================] - 0s 4ms/step - loss: 0.1356 - accuracy: 0.9512 - val_loss: 0.1885 - val_accuracy: 0.9391\n",
      "Epoch 9/10\n",
      "62/62 [==============================] - 0s 4ms/step - loss: 0.1234 - accuracy: 0.9568 - val_loss: 0.2121 - val_accuracy: 0.9309\n",
      "Epoch 10/10\n",
      "62/62 [==============================] - 0s 5ms/step - loss: 0.1254 - accuracy: 0.9558 - val_loss: 0.1930 - val_accuracy: 0.9422\n",
      "31/31 - 0s - loss: 0.1930 - accuracy: 0.9422\n",
      "test accuracy:  0.942208468914032\n"
     ]
    },
    {
     "data": {
      "image/png": "[encoded data removed]",
      "text/plain": [
       "<Figure size 432x288 with 1 Axes>"
      ]
     },
     "metadata": {
      "needs_background": "light"
     },
     "output_type": "display_data"
    }
   ],
   "source": [
    "model = models.Sequential()\n",
    "model.add(layers.Conv2D(32, (3, 3), activation='relu', input_shape=(LowestHeight, LowestWidth, 3)))\n",
    "model.add(layers.MaxPooling2D((2, 2)))\n",
    "model.add(layers.Conv2D(64, (3, 3), activation='relu'))\n",
    "model.add(layers.Flatten())\n",
    "model.add(layers.Dense(64, activation='relu'))\n",
    "model.add(layers.Dense(3))\n",
    "model.summary()\n",
    "model.compile(optimizer='adam', loss=tf.keras.losses.SparseCategoricalCrossentropy(from_logits=True),metrics=['accuracy'])\n",
    "testImagesArray = np.array(testImages)\n",
    "testLabelsArray = np.array(testLabels)\n",
    "trainImagesArray = np.array(trainImages)\n",
    "trainLabelsArray = np.array(trainLabels)\n",
    "history = model.fit(trainImages, trainLabels, epochs=10, validation_data=(testImages, testLabels))\n",
    "plt.plot(history.history['accuracy'], label='accuracy')\n",
    "plt.plot(history.history['val_accuracy'], label = 'val_accuracy')\n",
    "plt.xlabel('Epoch')\n",
    "plt.ylabel('Accuracy')\n",
    "plt.ylim([0.5, 1])\n",
    "plt.legend(loc='lower right')\n",
    "\n",
    "test_loss, test_acc = model.evaluate(testImages,  testLabels, verbose=2)\n",
    "print(\"test accuracy: \", test_acc)\n",
    "probability_model = tf.keras.Sequential([model, tf.keras.layers.Softmax()])"
   ]
  },
  {
   "cell_type": "code",
   "execution_count": 26,
   "metadata": {},
   "outputs": [
    {
     "name": "stdout",
     "output_type": "stream",
     "text": [
      "Prediction:  [ 4.97484    -2.4039853  -0.26410276]\n",
      "Prediction:  [ 9.470162  -2.1220067 -3.9136062]\n",
      "Prediction:  [10.647507  -8.107521   1.6164827]\n",
      "Prediction:  [ 5.674546  -4.296032   1.7190068]\n",
      "Prediction:  [-0.42972118  5.7798657  -1.8093989 ]\n",
      "Prediction:  [10.315375  -7.773064   1.2673551]\n",
      "Prediction:  [ 0.98966    3.340497  -2.1112137]\n",
      "Prediction:  [ 5.277785  -1.0961843 -2.1510181]\n",
      "Prediction:  [ 14.20699    -10.508628     0.80406344]\n",
      "Prediction:  [ 5.7041445  -2.7011755  -0.57809424]\n"
     ]
    }
   ],
   "source": [
    "predict = model.predict(testImages)\n",
    "for i in range(10):\n",
    "    print(\"Prediction: \", predict[i])\n",
    "    cv2.imshow(\"photo\", cropImages[testLocation[i]])\n",
    "    cv2.waitKey(0)"
   ]
  },
  {
   "cell_type": "code",
   "execution_count": null,
   "metadata": {},
   "outputs": [],
   "source": []
  },
  {
   "cell_type": "code",
   "execution_count": null,
   "metadata": {},
   "outputs": [],
   "source": []
  }
 ],
 "metadata": {
  "kernelspec": {
   "display_name": "Python 3",
   "language": "python",
   "name": "python3"
  },
  "language_info": {
   "codemirror_mode": {
    "name": "ipython",
    "version": 3
   },
   "file_extension": ".py",
   "mimetype": "text/x-python",
   "name": "python",
   "nbconvert_exporter": "python",
   "pygments_lexer": "ipython3",
   "version": "3.8.3"
  }
 },
 "nbformat": 4,
 "nbformat_minor": 4
}
